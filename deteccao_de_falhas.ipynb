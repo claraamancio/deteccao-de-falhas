{
 "cells": [
  {
   "cell_type": "markdown",
   "metadata": {},
   "source": [
    "# **Detecção de Falhas em Equipamento** #\n",
    "\n",
    "Este é um projeto de Data Science. Tem - se por objetivo avaliar e validar diferentes modelos de Machine Learning, com foco nos métodos que usam Aprendizado Supervisionado, a fim de encontrar o que melhor detecta possíveis falhas nos equipamentos.\n",
    "\n",
    "A base de dados utilizada nesse projeto pode ser encontrada no [Kaggle](https://www.kaggle.com/datasets/hiimanshuagarwal/predictive-maintenance-dataset)."
   ]
  },
  {
   "cell_type": "markdown",
   "metadata": {},
   "source": [
    "### **Bibliotecas Utilizadas** ###"
   ]
  },
  {
   "cell_type": "code",
   "execution_count": 2,
   "metadata": {},
   "outputs": [],
   "source": [
    "import numpy as np\n",
    "import pandas as pd\n",
    "import seaborn as sns\n",
    "import matplotlib.pyplot as plt \n"
   ]
  },
  {
   "cell_type": "markdown",
   "metadata": {},
   "source": [
    "### **Importando e Avaliando a Base de Dados** ###"
   ]
  },
  {
   "cell_type": "code",
   "execution_count": 3,
   "metadata": {},
   "outputs": [],
   "source": [
    "# Importando a base\n",
    "df = pd.read_csv('predictive_maintenance_dataset.csv')"
   ]
  },
  {
   "cell_type": "code",
   "execution_count": 4,
   "metadata": {},
   "outputs": [
    {
     "data": {
      "text/html": [
       "<div>\n",
       "<style scoped>\n",
       "    .dataframe tbody tr th:only-of-type {\n",
       "        vertical-align: middle;\n",
       "    }\n",
       "\n",
       "    .dataframe tbody tr th {\n",
       "        vertical-align: top;\n",
       "    }\n",
       "\n",
       "    .dataframe thead th {\n",
       "        text-align: right;\n",
       "    }\n",
       "</style>\n",
       "<table border=\"1\" class=\"dataframe\">\n",
       "  <thead>\n",
       "    <tr style=\"text-align: right;\">\n",
       "      <th></th>\n",
       "      <th>date</th>\n",
       "      <th>device</th>\n",
       "      <th>failure</th>\n",
       "      <th>metric1</th>\n",
       "      <th>metric2</th>\n",
       "      <th>metric3</th>\n",
       "      <th>metric4</th>\n",
       "      <th>metric5</th>\n",
       "      <th>metric6</th>\n",
       "      <th>metric7</th>\n",
       "      <th>metric8</th>\n",
       "      <th>metric9</th>\n",
       "    </tr>\n",
       "  </thead>\n",
       "  <tbody>\n",
       "    <tr>\n",
       "      <th>0</th>\n",
       "      <td>1/1/2015</td>\n",
       "      <td>S1F01085</td>\n",
       "      <td>0</td>\n",
       "      <td>215630672</td>\n",
       "      <td>55</td>\n",
       "      <td>0</td>\n",
       "      <td>52</td>\n",
       "      <td>6</td>\n",
       "      <td>407438</td>\n",
       "      <td>0</td>\n",
       "      <td>0</td>\n",
       "      <td>7</td>\n",
       "    </tr>\n",
       "    <tr>\n",
       "      <th>1</th>\n",
       "      <td>1/1/2015</td>\n",
       "      <td>S1F0166B</td>\n",
       "      <td>0</td>\n",
       "      <td>61370680</td>\n",
       "      <td>0</td>\n",
       "      <td>3</td>\n",
       "      <td>0</td>\n",
       "      <td>6</td>\n",
       "      <td>403174</td>\n",
       "      <td>0</td>\n",
       "      <td>0</td>\n",
       "      <td>0</td>\n",
       "    </tr>\n",
       "    <tr>\n",
       "      <th>2</th>\n",
       "      <td>1/1/2015</td>\n",
       "      <td>S1F01E6Y</td>\n",
       "      <td>0</td>\n",
       "      <td>173295968</td>\n",
       "      <td>0</td>\n",
       "      <td>0</td>\n",
       "      <td>0</td>\n",
       "      <td>12</td>\n",
       "      <td>237394</td>\n",
       "      <td>0</td>\n",
       "      <td>0</td>\n",
       "      <td>0</td>\n",
       "    </tr>\n",
       "    <tr>\n",
       "      <th>3</th>\n",
       "      <td>1/1/2015</td>\n",
       "      <td>S1F01JE0</td>\n",
       "      <td>0</td>\n",
       "      <td>79694024</td>\n",
       "      <td>0</td>\n",
       "      <td>0</td>\n",
       "      <td>0</td>\n",
       "      <td>6</td>\n",
       "      <td>410186</td>\n",
       "      <td>0</td>\n",
       "      <td>0</td>\n",
       "      <td>0</td>\n",
       "    </tr>\n",
       "    <tr>\n",
       "      <th>4</th>\n",
       "      <td>1/1/2015</td>\n",
       "      <td>S1F01R2B</td>\n",
       "      <td>0</td>\n",
       "      <td>135970480</td>\n",
       "      <td>0</td>\n",
       "      <td>0</td>\n",
       "      <td>0</td>\n",
       "      <td>15</td>\n",
       "      <td>313173</td>\n",
       "      <td>0</td>\n",
       "      <td>0</td>\n",
       "      <td>3</td>\n",
       "    </tr>\n",
       "  </tbody>\n",
       "</table>\n",
       "</div>"
      ],
      "text/plain": [
       "       date    device  failure    metric1  metric2  metric3  metric4  metric5  \\\n",
       "0  1/1/2015  S1F01085        0  215630672       55        0       52        6   \n",
       "1  1/1/2015  S1F0166B        0   61370680        0        3        0        6   \n",
       "2  1/1/2015  S1F01E6Y        0  173295968        0        0        0       12   \n",
       "3  1/1/2015  S1F01JE0        0   79694024        0        0        0        6   \n",
       "4  1/1/2015  S1F01R2B        0  135970480        0        0        0       15   \n",
       "\n",
       "   metric6  metric7  metric8  metric9  \n",
       "0   407438        0        0        7  \n",
       "1   403174        0        0        0  \n",
       "2   237394        0        0        0  \n",
       "3   410186        0        0        0  \n",
       "4   313173        0        0        3  "
      ]
     },
     "execution_count": 4,
     "metadata": {},
     "output_type": "execute_result"
    }
   ],
   "source": [
    "# Visualizando a base\n",
    "df.head()"
   ]
  },
  {
   "cell_type": "code",
   "execution_count": 5,
   "metadata": {},
   "outputs": [
    {
     "name": "stdout",
     "output_type": "stream",
     "text": [
      "Número de colunas: 12\n",
      "Número de linhas: 124494\n"
     ]
    }
   ],
   "source": [
    "# Verificando a dimensão do df\n",
    "print(\"Número de colunas:\", df.shape[1])\n",
    "print(\"Número de linhas:\", df.shape[0])"
   ]
  },
  {
   "cell_type": "code",
   "execution_count": 6,
   "metadata": {},
   "outputs": [
    {
     "name": "stdout",
     "output_type": "stream",
     "text": [
      "<class 'pandas.core.frame.DataFrame'>\n",
      "RangeIndex: 124494 entries, 0 to 124493\n",
      "Data columns (total 12 columns):\n",
      " #   Column   Non-Null Count   Dtype \n",
      "---  ------   --------------   ----- \n",
      " 0   date     124494 non-null  object\n",
      " 1   device   124494 non-null  object\n",
      " 2   failure  124494 non-null  int64 \n",
      " 3   metric1  124494 non-null  int64 \n",
      " 4   metric2  124494 non-null  int64 \n",
      " 5   metric3  124494 non-null  int64 \n",
      " 6   metric4  124494 non-null  int64 \n",
      " 7   metric5  124494 non-null  int64 \n",
      " 8   metric6  124494 non-null  int64 \n",
      " 9   metric7  124494 non-null  int64 \n",
      " 10  metric8  124494 non-null  int64 \n",
      " 11  metric9  124494 non-null  int64 \n",
      "dtypes: int64(10), object(2)\n",
      "memory usage: 11.4+ MB\n"
     ]
    }
   ],
   "source": [
    "df.info()"
   ]
  },
  {
   "cell_type": "code",
   "execution_count": 7,
   "metadata": {},
   "outputs": [
    {
     "data": {
      "text/html": [
       "<div>\n",
       "<style scoped>\n",
       "    .dataframe tbody tr th:only-of-type {\n",
       "        vertical-align: middle;\n",
       "    }\n",
       "\n",
       "    .dataframe tbody tr th {\n",
       "        vertical-align: top;\n",
       "    }\n",
       "\n",
       "    .dataframe thead th {\n",
       "        text-align: right;\n",
       "    }\n",
       "</style>\n",
       "<table border=\"1\" class=\"dataframe\">\n",
       "  <thead>\n",
       "    <tr style=\"text-align: right;\">\n",
       "      <th></th>\n",
       "      <th>count</th>\n",
       "      <th>mean</th>\n",
       "      <th>std</th>\n",
       "      <th>min</th>\n",
       "      <th>25%</th>\n",
       "      <th>50%</th>\n",
       "      <th>75%</th>\n",
       "      <th>max</th>\n",
       "    </tr>\n",
       "  </thead>\n",
       "  <tbody>\n",
       "    <tr>\n",
       "      <th>failure</th>\n",
       "      <td>124494.0</td>\n",
       "      <td>8.514467e-04</td>\n",
       "      <td>2.916725e-02</td>\n",
       "      <td>0.0</td>\n",
       "      <td>0.0</td>\n",
       "      <td>0.0</td>\n",
       "      <td>0.0</td>\n",
       "      <td>1.0</td>\n",
       "    </tr>\n",
       "    <tr>\n",
       "      <th>metric1</th>\n",
       "      <td>124494.0</td>\n",
       "      <td>1.223881e+08</td>\n",
       "      <td>7.045933e+07</td>\n",
       "      <td>0.0</td>\n",
       "      <td>61284762.0</td>\n",
       "      <td>122797388.0</td>\n",
       "      <td>183309640.0</td>\n",
       "      <td>244140480.0</td>\n",
       "    </tr>\n",
       "    <tr>\n",
       "      <th>metric2</th>\n",
       "      <td>124494.0</td>\n",
       "      <td>1.594927e+02</td>\n",
       "      <td>2.179678e+03</td>\n",
       "      <td>0.0</td>\n",
       "      <td>0.0</td>\n",
       "      <td>0.0</td>\n",
       "      <td>0.0</td>\n",
       "      <td>64968.0</td>\n",
       "    </tr>\n",
       "    <tr>\n",
       "      <th>metric3</th>\n",
       "      <td>124494.0</td>\n",
       "      <td>9.940897e+00</td>\n",
       "      <td>1.857481e+02</td>\n",
       "      <td>0.0</td>\n",
       "      <td>0.0</td>\n",
       "      <td>0.0</td>\n",
       "      <td>0.0</td>\n",
       "      <td>24929.0</td>\n",
       "    </tr>\n",
       "    <tr>\n",
       "      <th>metric4</th>\n",
       "      <td>124494.0</td>\n",
       "      <td>1.741120e+00</td>\n",
       "      <td>2.290851e+01</td>\n",
       "      <td>0.0</td>\n",
       "      <td>0.0</td>\n",
       "      <td>0.0</td>\n",
       "      <td>0.0</td>\n",
       "      <td>1666.0</td>\n",
       "    </tr>\n",
       "    <tr>\n",
       "      <th>metric5</th>\n",
       "      <td>124494.0</td>\n",
       "      <td>1.422267e+01</td>\n",
       "      <td>1.594303e+01</td>\n",
       "      <td>1.0</td>\n",
       "      <td>8.0</td>\n",
       "      <td>10.0</td>\n",
       "      <td>12.0</td>\n",
       "      <td>98.0</td>\n",
       "    </tr>\n",
       "    <tr>\n",
       "      <th>metric6</th>\n",
       "      <td>124494.0</td>\n",
       "      <td>2.601727e+05</td>\n",
       "      <td>9.915108e+04</td>\n",
       "      <td>8.0</td>\n",
       "      <td>221452.0</td>\n",
       "      <td>249799.5</td>\n",
       "      <td>310266.0</td>\n",
       "      <td>689161.0</td>\n",
       "    </tr>\n",
       "    <tr>\n",
       "      <th>metric7</th>\n",
       "      <td>124494.0</td>\n",
       "      <td>2.925282e-01</td>\n",
       "      <td>7.436924e+00</td>\n",
       "      <td>0.0</td>\n",
       "      <td>0.0</td>\n",
       "      <td>0.0</td>\n",
       "      <td>0.0</td>\n",
       "      <td>832.0</td>\n",
       "    </tr>\n",
       "    <tr>\n",
       "      <th>metric8</th>\n",
       "      <td>124494.0</td>\n",
       "      <td>2.925282e-01</td>\n",
       "      <td>7.436924e+00</td>\n",
       "      <td>0.0</td>\n",
       "      <td>0.0</td>\n",
       "      <td>0.0</td>\n",
       "      <td>0.0</td>\n",
       "      <td>832.0</td>\n",
       "    </tr>\n",
       "    <tr>\n",
       "      <th>metric9</th>\n",
       "      <td>124494.0</td>\n",
       "      <td>1.301385e+01</td>\n",
       "      <td>2.756612e+02</td>\n",
       "      <td>0.0</td>\n",
       "      <td>0.0</td>\n",
       "      <td>0.0</td>\n",
       "      <td>0.0</td>\n",
       "      <td>70000.0</td>\n",
       "    </tr>\n",
       "  </tbody>\n",
       "</table>\n",
       "</div>"
      ],
      "text/plain": [
       "            count          mean           std  min         25%          50%  \\\n",
       "failure  124494.0  8.514467e-04  2.916725e-02  0.0         0.0          0.0   \n",
       "metric1  124494.0  1.223881e+08  7.045933e+07  0.0  61284762.0  122797388.0   \n",
       "metric2  124494.0  1.594927e+02  2.179678e+03  0.0         0.0          0.0   \n",
       "metric3  124494.0  9.940897e+00  1.857481e+02  0.0         0.0          0.0   \n",
       "metric4  124494.0  1.741120e+00  2.290851e+01  0.0         0.0          0.0   \n",
       "metric5  124494.0  1.422267e+01  1.594303e+01  1.0         8.0         10.0   \n",
       "metric6  124494.0  2.601727e+05  9.915108e+04  8.0    221452.0     249799.5   \n",
       "metric7  124494.0  2.925282e-01  7.436924e+00  0.0         0.0          0.0   \n",
       "metric8  124494.0  2.925282e-01  7.436924e+00  0.0         0.0          0.0   \n",
       "metric9  124494.0  1.301385e+01  2.756612e+02  0.0         0.0          0.0   \n",
       "\n",
       "                 75%          max  \n",
       "failure          0.0          1.0  \n",
       "metric1  183309640.0  244140480.0  \n",
       "metric2          0.0      64968.0  \n",
       "metric3          0.0      24929.0  \n",
       "metric4          0.0       1666.0  \n",
       "metric5         12.0         98.0  \n",
       "metric6     310266.0     689161.0  \n",
       "metric7          0.0        832.0  \n",
       "metric8          0.0        832.0  \n",
       "metric9          0.0      70000.0  "
      ]
     },
     "execution_count": 7,
     "metadata": {},
     "output_type": "execute_result"
    }
   ],
   "source": [
    "df.describe().T"
   ]
  },
  {
   "cell_type": "code",
   "execution_count": 8,
   "metadata": {},
   "outputs": [],
   "source": [
    "# Verificando a coluna 'date'"
   ]
  },
  {
   "cell_type": "markdown",
   "metadata": {},
   "source": [
    "### **Tratamento da Base de Dados** ###\n",
    "\n",
    "Vamos verificar se há linhas duplicadas e se há valores NaN nas colunas."
   ]
  },
  {
   "cell_type": "code",
   "execution_count": 9,
   "metadata": {},
   "outputs": [
    {
     "name": "stdout",
     "output_type": "stream",
     "text": [
      "Número de linhas duplicadas: 1\n"
     ]
    }
   ],
   "source": [
    "# Número de Duplicadas\n",
    "print(\"Número de linhas duplicadas:\", df.duplicated().sum())"
   ]
  },
  {
   "cell_type": "markdown",
   "metadata": {},
   "source": [
    "Ou seja, temos uma linha que foi escrita duas vezes na nossa base. Vamos visualizar:"
   ]
  },
  {
   "cell_type": "code",
   "execution_count": 10,
   "metadata": {},
   "outputs": [
    {
     "data": {
      "text/html": [
       "<div>\n",
       "<style scoped>\n",
       "    .dataframe tbody tr th:only-of-type {\n",
       "        vertical-align: middle;\n",
       "    }\n",
       "\n",
       "    .dataframe tbody tr th {\n",
       "        vertical-align: top;\n",
       "    }\n",
       "\n",
       "    .dataframe thead th {\n",
       "        text-align: right;\n",
       "    }\n",
       "</style>\n",
       "<table border=\"1\" class=\"dataframe\">\n",
       "  <thead>\n",
       "    <tr style=\"text-align: right;\">\n",
       "      <th></th>\n",
       "      <th>date</th>\n",
       "      <th>device</th>\n",
       "      <th>failure</th>\n",
       "      <th>metric1</th>\n",
       "      <th>metric2</th>\n",
       "      <th>metric3</th>\n",
       "      <th>metric4</th>\n",
       "      <th>metric5</th>\n",
       "      <th>metric6</th>\n",
       "      <th>metric7</th>\n",
       "      <th>metric8</th>\n",
       "      <th>metric9</th>\n",
       "    </tr>\n",
       "  </thead>\n",
       "  <tbody>\n",
       "    <tr>\n",
       "      <th>101334</th>\n",
       "      <td>7/10/2015</td>\n",
       "      <td>S1F0R4Q8</td>\n",
       "      <td>0</td>\n",
       "      <td>192721392</td>\n",
       "      <td>0</td>\n",
       "      <td>0</td>\n",
       "      <td>0</td>\n",
       "      <td>8</td>\n",
       "      <td>213700</td>\n",
       "      <td>0</td>\n",
       "      <td>0</td>\n",
       "      <td>0</td>\n",
       "    </tr>\n",
       "    <tr>\n",
       "      <th>101335</th>\n",
       "      <td>7/10/2015</td>\n",
       "      <td>S1F0R4Q8</td>\n",
       "      <td>0</td>\n",
       "      <td>192721392</td>\n",
       "      <td>0</td>\n",
       "      <td>0</td>\n",
       "      <td>0</td>\n",
       "      <td>8</td>\n",
       "      <td>213700</td>\n",
       "      <td>0</td>\n",
       "      <td>0</td>\n",
       "      <td>0</td>\n",
       "    </tr>\n",
       "  </tbody>\n",
       "</table>\n",
       "</div>"
      ],
      "text/plain": [
       "             date    device  failure    metric1  metric2  metric3  metric4  \\\n",
       "101334  7/10/2015  S1F0R4Q8        0  192721392        0        0        0   \n",
       "101335  7/10/2015  S1F0R4Q8        0  192721392        0        0        0   \n",
       "\n",
       "        metric5  metric6  metric7  metric8  metric9  \n",
       "101334        8   213700        0        0        0  \n",
       "101335        8   213700        0        0        0  "
      ]
     },
     "execution_count": 10,
     "metadata": {},
     "output_type": "execute_result"
    }
   ],
   "source": [
    "# Visualizando duplicadas\n",
    "df[df.duplicated(keep = False)]"
   ]
  },
  {
   "cell_type": "markdown",
   "metadata": {},
   "source": [
    "Vamos fazer o tratamento necessário e conferir se ele foi eficiente. Para isso, esperamos que a base de 124494 linhas tenha 124493 ao final da limpeza e que o número de duplicadas seja 0."
   ]
  },
  {
   "cell_type": "code",
   "execution_count": 11,
   "metadata": {},
   "outputs": [
    {
     "name": "stdout",
     "output_type": "stream",
     "text": [
      "Número de linhas: 124493\n",
      "Número de linhas duplicadas: 0\n"
     ]
    }
   ],
   "source": [
    "# Dropando linha duplicada\n",
    "df.drop_duplicates(inplace = True)\n",
    "\n",
    "# Verificando Limpeza\n",
    "print(\"Número de linhas:\", df.shape[0])\n",
    "\n",
    "# Número de Duplicadas\n",
    "print(\"Número de linhas duplicadas:\", df.duplicated().sum())"
   ]
  },
  {
   "cell_type": "code",
   "execution_count": 12,
   "metadata": {},
   "outputs": [
    {
     "data": {
      "text/plain": [
       "date       0\n",
       "device     0\n",
       "failure    0\n",
       "metric1    0\n",
       "metric2    0\n",
       "metric3    0\n",
       "metric4    0\n",
       "metric5    0\n",
       "metric6    0\n",
       "metric7    0\n",
       "metric8    0\n",
       "metric9    0\n",
       "dtype: int64"
      ]
     },
     "execution_count": 12,
     "metadata": {},
     "output_type": "execute_result"
    }
   ],
   "source": [
    "# Verificando valores NaN nas colunas\n",
    "df.isna().sum()"
   ]
  },
  {
   "cell_type": "markdown",
   "metadata": {},
   "source": [
    "Observe que não temos valores NaN (Not a Number), dessa forma, não precisamos fazer uma limpeza ou tratamento."
   ]
  },
  {
   "cell_type": "markdown",
   "metadata": {},
   "source": [
    "### **Análise Exploratória dos Dados** ###\n",
    "\n",
    "\n",
    "Avaliaremos:\n",
    "- A quantidade total de equipamentos;\n",
    "- Quais são os tipos de equipamento e suas quantidades;\n",
    "- A quantidade total de equipamentos que falham e que não falham;\n",
    "- A quantidade de equipamentos que falham e que não falham por tipo de equipamento;\n",
    "- A quantidade de equipamentos que falham e que não falham por data;\n",
    "- A quantidade de equipamentos que falham e que não falham por métrica;\n",
    "- As distribuições das métricas;"
   ]
  },
  {
   "cell_type": "code",
   "execution_count": 13,
   "metadata": {},
   "outputs": [
    {
     "name": "stdout",
     "output_type": "stream",
     "text": [
      "Quantidade total de equipamentos: 124493\n"
     ]
    }
   ],
   "source": [
    "# Verificando a quantidade total de equipamentos\n",
    "print(\"Quantidade total de equipamentos:\", df.shape[0])"
   ]
  },
  {
   "cell_type": "code",
   "execution_count": 14,
   "metadata": {},
   "outputs": [
    {
     "name": "stdout",
     "output_type": "stream",
     "text": [
      "Quantidade de tipos de equipamento: 1169\n"
     ]
    }
   ],
   "source": [
    "# Verificando os tipos de equipamento\n",
    "print(\"Quantidade de tipos de equipamento:\", df.device.unique().shape[0])"
   ]
  },
  {
   "cell_type": "code",
   "execution_count": 15,
   "metadata": {},
   "outputs": [
    {
     "data": {
      "text/plain": [
       "Z1F0QLC1    304\n",
       "S1F0KYCR    304\n",
       "S1F0E9EP    304\n",
       "S1F0EGMT    304\n",
       "S1F0FGBQ    304\n",
       "           ... \n",
       "W1F1CHZK      5\n",
       "W1F1CJKT      5\n",
       "S1F04KSC      4\n",
       "W1F0WJFT      3\n",
       "W1F1DA5ÿ      1\n",
       "Name: device, Length: 1169, dtype: int64"
      ]
     },
     "execution_count": 15,
     "metadata": {},
     "output_type": "execute_result"
    }
   ],
   "source": [
    "# Verificando quantidade por tipo de equipamento\n",
    "df.device.value_counts()"
   ]
  },
  {
   "cell_type": "code",
   "execution_count": 16,
   "metadata": {},
   "outputs": [
    {
     "name": "stdout",
     "output_type": "stream",
     "text": [
      "Quantidade de equipamentos que falharam: 106\n",
      "Quantidade de equipamentos que não falharam: 124387\n"
     ]
    }
   ],
   "source": [
    "# Verificando a quantidade de equipamentos que falharam e que não falharam\n",
    "print(\"Quantidade de equipamentos que falharam:\", df.failure.sum())\n",
    "print(\"Quantidade de equipamentos que não falharam:\", df.shape[0] - df.failure.sum())"
   ]
  },
  {
   "cell_type": "code",
   "execution_count": 17,
   "metadata": {},
   "outputs": [
    {
     "data": {
      "image/png": "[encoded data removed]",
      "text/plain": [
       "<Figure size 640x480 with 1 Axes>"
      ]
     },
     "metadata": {},
     "output_type": "display_data"
    }
   ],
   "source": [
    "# Gráfico da proporção de falhas e não falhas\n",
    "value_counts_failure = df.failure.value_counts(normalize=True)\n",
    "plt.bar(value_counts_failure.index, value_counts_failure.values, color = '#008080')\n",
    "plt.xlabel('Falha')\n",
    "plt.ylabel('Proporção')\n",
    "plt.title('Gráfico da proporção de falhas e não falhas') \n",
    "plt.show()"
   ]
  },
  {
   "cell_type": "markdown",
   "metadata": {},
   "source": [
    "Do gráfico acima, podemos observar que estamos lidando com uma base muito desbalanceada. "
   ]
  },
  {
   "cell_type": "markdown",
   "metadata": {},
   "source": [
    "Agora, vamos ver a quantidade de falhas por 'device' para investigar se existe algum tipo de peça que tem mais probabilidade de falhar, dentre os tipos que falharam."
   ]
  },
  {
   "cell_type": "code",
   "execution_count": 18,
   "metadata": {},
   "outputs": [
    {
     "data": {
      "text/plain": [
       "device\n",
       "Z1F0LSNZ    1\n",
       "W1F1230J    1\n",
       "Z1F0P5D9    1\n",
       "S1F0L0DW    1\n",
       "W1F1DQN8    1\n",
       "           ..\n",
       "S1F10QG6    0\n",
       "S1F10QH3    0\n",
       "S1F10QL8    0\n",
       "S1F10RKC    0\n",
       "Z1F2PBHX    0\n",
       "Name: failure, Length: 1169, dtype: int64"
      ]
     },
     "execution_count": 18,
     "metadata": {},
     "output_type": "execute_result"
    }
   ],
   "source": [
    "# Verificando quantidade de falhas por tipo de equipamento\n",
    "df.groupby('device')['failure'].sum().sort_values(ascending=False)"
   ]
  },
  {
   "cell_type": "markdown",
   "metadata": {},
   "source": [
    "Veja que as falhas relatadas são de tipos diferentes de equipamento, sendo mais clara, não existe um tipo de equipamento que relatou mais de um equipamento defeituoso. Dessa forma, dentre os equipamentos que falharam, não existe um tipo que tem maior possibilidade de falha.\n",
    "\n",
    "Contudo, de todos os tipos, podemos enumerar quais foram os que falharam."
   ]
  },
  {
   "cell_type": "code",
   "execution_count": 19,
   "metadata": {},
   "outputs": [
    {
     "data": {
      "text/plain": [
       "4885      S1F0RRB1\n",
       "6879      S1F0CTDN\n",
       "8823      W1F0PNA5\n",
       "11957     W1F13SRV\n",
       "12668     W1F1230J\n",
       "            ...   \n",
       "109927    W1F1CB5E\n",
       "114251    Z1F0MRPJ\n",
       "122118    S1F0JGJV\n",
       "122808    Z1F14BGY\n",
       "124329    W1F0T0B1\n",
       "Name: device, Length: 106, dtype: object"
      ]
     },
     "execution_count": 19,
     "metadata": {},
     "output_type": "execute_result"
    }
   ],
   "source": [
    "# Equipamentos que falharam \n",
    "df[df['failure'] == 1]['device']"
   ]
  },
  {
   "cell_type": "markdown",
   "metadata": {},
   "source": [
    "### **Separação dos Dados em Treino e Teste** ###"
   ]
  },
  {
   "cell_type": "code",
   "execution_count": null,
   "metadata": {},
   "outputs": [],
   "source": []
  },
  {
   "cell_type": "markdown",
   "metadata": {},
   "source": [
    "### **Criação dos Modelos de Previsão** ###"
   ]
  },
  {
   "cell_type": "code",
   "execution_count": null,
   "metadata": {},
   "outputs": [],
   "source": []
  },
  {
   "cell_type": "markdown",
   "metadata": {},
   "source": [
    "### **Métricas Obtidas** ###"
   ]
  },
  {
   "cell_type": "code",
   "execution_count": null,
   "metadata": {},
   "outputs": [],
   "source": []
  },
  {
   "cell_type": "markdown",
   "metadata": {},
   "source": [
    "### **Escolha do Modelo** ###"
   ]
  },
  {
   "cell_type": "code",
   "execution_count": null,
   "metadata": {},
   "outputs": [],
   "source": []
  },
  {
   "cell_type": "markdown",
   "metadata": {},
   "source": [
    "### **Otimização do Modelo** ###"
   ]
  },
  {
   "cell_type": "code",
   "execution_count": null,
   "metadata": {},
   "outputs": [],
   "source": []
  },
  {
   "cell_type": "markdown",
   "metadata": {},
   "source": [
    "### **Criação de um Pipeline Final** ###"
   ]
  },
  {
   "cell_type": "code",
   "execution_count": null,
   "metadata": {},
   "outputs": [],
   "source": []
  },
  {
   "cell_type": "markdown",
   "metadata": {},
   "source": [
    "### **Conclusão** ###"
   ]
  }
 ],
 "metadata": {
  "kernelspec": {
   "display_name": "base",
   "language": "python",
   "name": "python3"
  },
  "language_info": {
   "codemirror_mode": {
    "name": "ipython",
    "version": 3
   },
   "file_extension": ".py",
   "mimetype": "text/x-python",
   "name": "python",
   "nbconvert_exporter": "python",
   "pygments_lexer": "ipython3",
   "version": "3.10.9"
  }
 },
 "nbformat": 4,
 "nbformat_minor": 2
}
